{
 "cells": [
  {
   "cell_type": "markdown",
   "metadata": {},
   "source": [
    "# Course 3: [Structuring Machine Learning Projects](https://www.youtube.com/watch?v=dFX8k1kXhOw&list=PLkDaE6sCZn6E7jZ9sN_xHwSHOdjUxUW_b)\n",
    "\n",
    "Welcome to Structuring Machine Learning Projects!"
   ]
  },
  {
   "cell_type": "markdown",
   "metadata": {},
   "source": [
    "## Week 1: ML Strategy (1)\n",
    "\n",
    "### Learning Objectives\n",
    "\n",
    "* Understand why Machine Learning strategy is important\n",
    "* Apply satisficing and optimizing metrics to set up your goal for ML projects\n",
    "* Choose a correct train/dev/test split of your dataset\n",
    "* Understand how to define human-level performance\n",
    "* Use human-level perform to define your key priorities in ML projects\n",
    "* Take the correct ML Strategic decision based on observations of performances and dataset\n",
    "\n",
    "### Introduction to ML Strategy\n",
    "\n",
    "* Why ML Strategy (2 min)\n",
    "* Orthogonalization (10 min)\n",
    "\n",
    "### Setting up your goal\n",
    "\n",
    "* Single number evaluation metric (7 min)\n",
    "* Satisficing and Optimizing metric (5 min)\n",
    "* Train/dev/test distributions (6 min)\n",
    "* Size of the dev and test sets (5 min)\n",
    "* When to change dev/test sets and metrics (11 min)\n",
    "\n",
    "### Comparing to human-level performance\n",
    "\n",
    "* Why human-level performance? (5 min)\n",
    "* Avoidable bias (6 min)\n",
    "* Understanding human-level performance (11 min)\n",
    "* Surpassing human-level performance (6 min)\n",
    "* Improving your model performance (4 min)\n",
    "\n",
    "### Machine Learning flight simulator\n",
    "\n",
    "To help you practice strategies for machine learning, the following exercise will present an in-depth scenario and ask how you would act. Consider airplane pilots who’s training involves time spent in flight simulators. These flight simulators accelerate the pilots’ learning by allowing them to experience a volume and variety of scenarios that they otherwise may have needed a much longer time to acquire.\n",
    "\n",
    "The following exercise is a “flight simulator” for machine learning. Rather than you needing to spend years working on a machine learning project before you get to experience certain scenarios, you’ll get to experience them right here.\n",
    "\n",
    "Personal note from Andrew: I’ve found practicing with scenarios like these to be useful for training PhD students and advanced Deep Learning researchers. This is the first time this type of “airplane simulator” for machine learning strategy has ever been made broadly available. I hope this helps you gain “real experience” with machine learning much faster than even full-time machine learning researchers typically do from work experience.\n",
    "\n",
    "* Quiz: Bird recognition in the city of Peacetopia (case study) (15 questions)\n",
    "\n",
    "### Heroes of Deep Learning (Optional)\n",
    "\n",
    "* Andrej Karpathy interview (15 min)"
   ]
  },
  {
   "cell_type": "markdown",
   "metadata": {},
   "source": [
    "## Week 2: ML Strategy (2)\n",
    "\n",
    "### Learning Objectives\n",
    "\n",
    "* Understand what multi-task learning and transfer learning are\n",
    "* Recognize bias, variance and data-mismatch by looking at the performances of your algorithm on train/dev/test sets\n",
    "\n",
    "### Error Analysis\n",
    "\n",
    "* Carrying out error analysis (10 min)\n",
    "* Cleaning up incorrectly labeled data (13 min)\n",
    "* Build your first system quickly, then iterate (6 min)\n",
    "\n",
    "### Mismatched training and dev/test set\n",
    "\n",
    "* Training and testing on different distributions (10 min)\n",
    "* Bias and Variance with mismatched data distributions (18 min)\n",
    "* Addressing data mismatch (10 min)\n",
    "\n",
    "### Learning from multiple tasks\n",
    "\n",
    "* Transfer learning (11 min)\n",
    "* Multi-task learning (12 min)\n",
    "\n",
    "### End-to-end deep learning\n",
    "\n",
    "* What is end-to-end deep learning? (11 min)\n",
    "* Whether to use end-to-end deep learning (10 min)\n",
    "\n",
    "### Machine Learning flight simulator\n",
    "\n",
    "* Quiz: Autonomous driving (case study) (15 questions)\n",
    "\n",
    "### Heroes of Deep Learning (Optional)\n",
    "\n",
    "* Ruslan Salakhutdinov interview (17 min)"
   ]
  }
 ],
 "metadata": {
  "kernelspec": {
   "display_name": "Python 3",
   "language": "python",
   "name": "python3"
  },
  "language_info": {
   "codemirror_mode": {
    "name": "ipython",
    "version": 3
   },
   "file_extension": ".py",
   "mimetype": "text/x-python",
   "name": "python",
   "nbconvert_exporter": "python",
   "pygments_lexer": "ipython3",
   "version": "3.8.5"
  }
 },
 "nbformat": 4,
 "nbformat_minor": 4
}
